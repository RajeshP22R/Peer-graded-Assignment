{
 "cells": [
  {
   "cell_type": "markdown",
   "metadata": {},
   "source": [
    "<center>\n",
    "    <img src=\"https://cf-courses-data.s3.us.cloud-object-storage.appdomain.cloud/IBMDeveloperSkillsNetwork-DS0105EN-SkillsNetwork/labs/Module2/images/SN_web_lightmode.png\" width=\"300\" alt=\"cognitiveclass.ai logo\">\n",
    "</center>\n"
   ]
  },
  {
   "cell_type": "markdown",
   "metadata": {},
   "source": [
    "#### Add your code below following the instructions given in the course\n"
   ]
  },
  {
   "cell_type": "markdown",
   "metadata": {},
   "source": [
    "# Title of the Notebook"
   ]
  },
  {
   "cell_type": "markdown",
   "metadata": {},
   "source": [
    "## Introduction\n",
    "\n",
    "This is where you can introduce the topic of your notebook and provide any necessary background information. You can also outline the goals and objectives of your analysis or project, and provide an overview of the approach you took to solve the problem. This is a good place to set expectations and give your readers a sense of what they can expect from your notebook.\n"
   ]
  },
  {
   "cell_type": "markdown",
   "metadata": {},
   "source": [
    "### Data Science Languages\n",
    "\n",
    "Here are some popular programming languages used in data science:\n",
    "\n",
    "- Python\n",
    "- R\n",
    "- SQL\n",
    "- Julia\n",
    "- MATLAB\n",
    "- Scala"
   ]
  },
  {
   "cell_type": "markdown",
   "metadata": {},
   "source": [
    "### Data Science Libraries\n",
    "\n",
    "Here are some popular libraries and frameworks used in data science:\n",
    "\n",
    "- Pandas: a library for data manipulation and analysis in Python\n",
    "- NumPy: a library for numerical computing in Python\n",
    "- Matplotlib: a library for data visualization in Python\n",
    "- Scikit-learn: a library for machine learning in Python\n",
    "- ggplot2: a library for data visualization in R\n",
    "- dplyr: a library for data manipulation in R\n",
    "- Tensorflow: an open-source machine learning framework developed by Google\n",
    "- PyTorch: an open-source machine learning framework developed by Facebook\n"
   ]
  },
  {
   "cell_type": "markdown",
   "metadata": {},
   "source": [
    "| Tool           | Description                                                  |\n",
    "| -------------- | ------------------------------------------------------------ |\n",
    "| Python         | Widely-used programming language for data science with a rich set of libraries and frameworks such as Pandas, NumPy, Matplotlib, and scikit-learn. |\n",
    "| R              | A language and environment for statistical computing and graphics. R provides a wide variety of statistical and graphical techniques, and has a vast collection of packages for data manipulation, analysis, and visualization. |\n",
    "| SQL            | Structured Query Language is used for managing and manipulating relational databases. Many data science projects require working with databases to extract, transform, and load data. |\n",
    "| Tableau        | A powerful visualization tool that allows users to create interactive and dynamic dashboards and visualizations. |\n",
    "| Power BI       | Microsoft's business intelligence and data visualization tool that allows users to create interactive reports, dashboards, and visualizations. |\n",
    "| TensorFlow     | An open-source machine learning framework developed by Google. TensorFlow is used for building and training deep learning models. |\n",
    "| PyTorch        | An open-source machine learning framework developed by Facebook. PyTorch is known for its dynamic computational graph and ease of use. |\n",
    "| Jupyter Notebook | A web-based interactive computing environment that allows users to create and share documents containing live code, equations, visualizations, and narrative text. |\n",
    "| Apache Spark   | An open-source distributed computing system that can process large datasets in parallel across a cluster of computers. Spark is used for big data processing, machine learning, and graph processing. |\n",
    "| Hadoop         | An open-source software framework used for distributed storage and processing of large datasets. Hadoop is widely used for big data processing and analysis. |\n"
   ]
  },
  {
   "cell_type": "markdown",
   "metadata": {},
   "source": [
    "## Arithmetic Expressions\n",
    "\n",
    "Arithmetic expressions are used in programming to perform mathematical calculations. Here are some examples of arithmetic expressions:\n",
    "\n",
    "- Addition: `2 + 3`\n",
    "- Subtraction: `5 - 2`\n",
    "- Multiplication: `4 * 6`\n",
    "- Division: `10 / 2`\n",
    "- Exponentiation: `2 ** 3`\n",
    "- Modulo: `10 % 3`"
   ]
  },
  {
   "cell_type": "markdown",
   "metadata": {},
   "source": [
    "# Multiplying and adding numbers\n",
    "x = 5\n",
    "y = 3\n",
    "z = x * y + 10\n",
    "print(z)\n"
   ]
  },
  {
   "cell_type": "markdown",
   "metadata": {},
   "source": [
    "# Converting minutes to hours\n",
    "minutes = 90\n",
    "hours = minutes / 60\n",
    "print(hours)\n"
   ]
  },
  {
   "cell_type": "markdown",
   "metadata": {},
   "source": [
    "## Objectives\n",
    "\n",
    "The objectives of this notebook are:\n",
    "\n",
    "- To introduce basic concepts in data science\n",
    "- To provide examples of common programming tasks in data science\n",
    "- To demonstrate how to use popular libraries and frameworks for data manipulation, analysis, and visualization\n",
    "- To showcase best practices for working with data in a reproducible and efficient manner\n"
   ]
  },
  {
   "cell_type": "markdown",
   "metadata": {},
   "source": [
    "## About the Author\n",
    "\n",
    "This notebook was written by Rajesh Patel. Rajesh Patel is a data scientist with Bunny PVT. He has 10 years of experience in the field and specializes in IT Sector. He is passionate about using data to drive insights and solve complex problems. \n"
   ]
  },
  {
   "cell_type": "code",
   "execution_count": null,
   "metadata": {},
   "outputs": [],
   "source": []
  }
 ],
 "metadata": {
  "kernelspec": {
   "display_name": "Python",
   "language": "python",
   "name": "conda-env-python-py"
  },
  "language_info": {
   "codemirror_mode": {
    "name": "ipython",
    "version": 3
   },
   "file_extension": ".py",
   "mimetype": "text/x-python",
   "name": "python",
   "nbconvert_exporter": "python",
   "pygments_lexer": "ipython3",
   "version": "3.7.12"
  }
 },
 "nbformat": 4,
 "nbformat_minor": 4
}
